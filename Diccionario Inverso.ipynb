{
 "cells": [
  {
   "cell_type": "markdown",
   "id": "6b13a901",
   "metadata": {},
   "source": [
    "# Diccionario inverso\n",
    "\n",
    "## Este script invierte un diccionario convirtiendo claves en valores y viceversa.\n",
    "## Verifica si hay valores duplicados en el diccionario original; si existen, no realiza la inversión y devuelve un mensaje de error, asegurando que no se pierda información."
   ]
  },
  {
   "cell_type": "code",
   "execution_count": null,
   "id": "c409dc20",
   "metadata": {},
   "outputs": [],
   "source": [
    "# La función toma un diccionario como entrada\n",
    "def dic_invertido(diccionario):\n",
    "    resultado= {} # Almacena la versión invertida del diccionario\n",
    "    for k,v in diccionario.items(): # Usa un bucle for para iterar por las claves (k) y valores (v) del diccionario.\n",
    "        if v in resultado: \n",
    "            print(\"Error: múltiples llaves para un mismo valor\")\n",
    "            return None\n",
    "        # Si el valor v ya está en el diccionario \"resultado\" (es decir, dos claves diferentes tienen el mismo valor), imprime un mensaje de error y termina la función con return None.\n",
    "        resultado [v] = k # Si no hay conflictos, agrega v como clave y k como valor al diccionario \"resultado\"\n",
    "    return resultado  # Devuelve el diccionario con las claves y valores invertidos.        \n",
    "\n",
    "dic_inv = {\"Zapatos\": 1, \"Pantalón\": 2, \"Sombrero\": 3}\n",
    "dic_inv_1={\"Zapatos\": \"azules\", \"Pantalón\": \"verde\", \"Sombrero\": \"verde\"}\n",
    "diccionario_invertido= dic_invertido(dic_inv)\n",
    "if diccionario_invertido is not None:\n",
    "    print(diccionario_invertido)\n",
    "diccionario_invertido_1= dic_invertido(dic_inv_1)\n",
    "if diccionario_invertido_1 is not None:\n",
    "    print(diccionario_invertido_1)"
   ]
  }
 ],
 "metadata": {
  "kernelspec": {
   "display_name": "base",
   "language": "python",
   "name": "python3"
  },
  "language_info": {
   "codemirror_mode": {
    "name": "ipython",
    "version": 3
   },
   "file_extension": ".py",
   "mimetype": "text/x-python",
   "name": "python",
   "nbconvert_exporter": "python",
   "pygments_lexer": "ipython3",
   "version": "3.11.5"
  }
 },
 "nbformat": 4,
 "nbformat_minor": 5
}
