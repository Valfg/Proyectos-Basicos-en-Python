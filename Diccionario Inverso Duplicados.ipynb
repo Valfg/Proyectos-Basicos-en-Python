{
 "cells": [
  {
   "cell_type": "markdown",
   "id": "90d81b5f",
   "metadata": {},
   "source": [
    "# Diccionario inverso con duplicados\n",
    "\n",
    "- El objetivo del script es invertir un diccionario, intercambiando claves y valores. \n",
    "- Si varias claves comparten el mismo valor, agrupa esas claves en una lista. \n",
    "- Es útil para analizar relaciones inversas y manejar datos con valores no únicos."
   ]
  },
  {
   "cell_type": "code",
   "execution_count": null,
   "id": "ee94018c",
   "metadata": {},
   "outputs": [],
   "source": [
    "# Toma un diccionario como entrada y crea uno nuevo (dic_inv_2) donde los valores originales se convierten en claves, y las claves originales en valores.\n",
    "def dic_inv_plus (diccionario):\n",
    "    dic_inv_2= {}\n",
    "    for k, v  in diccionario.items():\n",
    "        if v in  dic_inv_2: # Si el valor v ya existe como clave en el nuevo diccionario, se debe manejar el caso especial de múltiples claves con el mismo valor.\n",
    "            if isinstance( dic_inv_2 [v], list):\n",
    "                [dic_inv_2[v].append(k)] # Si ya hay una lista asociada al valor, se añade la nueva clave.\n",
    "            else:\n",
    "                dic_inv_2[v] = [dic_inv_2[v], k] # Si no es una lista, se convierte en una lista para incluir ambas claves.\n",
    "        else: # Si el valor no existe aún como clave en el nuevo diccionario\n",
    "            dic_inv_2[v] = k  # Se agrega el valor original como nueva clave, con la clave original como su valor.\n",
    "    return  dic_inv_2\n",
    "\n",
    "dic_inv = {\"Zapatos\": 1, \"Pantalón\": 2, \"Sombrero\": 3}\n",
    "inv_dic=dic_inv_plus(dic_inv)\n",
    "print(inv_dic)\n",
    "dic_inv_1={\"Zapatos\": \"azules\", \"Pantalón\": \"verde\", \"Sombrero\": \"verde\"}\n",
    "inv_dic_plus=dic_inv_plus(dic_inv_1)\n",
    "print(inv_dic_plus)"
   ]
  }
 ],
 "metadata": {
  "kernelspec": {
   "display_name": "base",
   "language": "python",
   "name": "python3"
  },
  "language_info": {
   "codemirror_mode": {
    "name": "ipython",
    "version": 3
   },
   "file_extension": ".py",
   "mimetype": "text/x-python",
   "name": "python",
   "nbconvert_exporter": "python",
   "pygments_lexer": "ipython3",
   "version": "3.11.5"
  }
 },
 "nbformat": 4,
 "nbformat_minor": 5
}
