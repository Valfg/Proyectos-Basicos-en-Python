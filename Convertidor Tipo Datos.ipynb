{
 "cells": [
  {
   "cell_type": "markdown",
   "id": "009cb694",
   "metadata": {},
   "source": [
    "# Conversión de tipos de datos\n",
    "\n",
    "### Este script toma una lista de datos con elementos variados (cadenas, números, listas y tuplas) y realiza dos operaciones principales:\n",
    "- Desglosar los datos para crear una lista plana, eliminando las anidaciones de listas o tuplas.\n",
    "- Separar los elementos en dos listas: una con elementos que se pueden convertir a números flotantes (float) y otra con los que no."
   ]
  },
  {
   "cell_type": "code",
   "execution_count": null,
   "id": "30094ad3",
   "metadata": {},
   "outputs": [],
   "source": [
    "datos=['1.3', 'one' , '1e10' , 'seven', '3-1/2', ('2',1,1.4,'not-a-number'), [1,2,'3','3.4']]\n",
    "\n",
    "# Extrae los datos por separado y los agrega a una lista.\n",
    "def extraer(listades):\n",
    "    lista_desglosados= []\n",
    "    for x in listades:\n",
    "        if isinstance(x, (list,tuple)):    \n",
    "            lista_desglosados.extend(x) # Si el elemento es una lista o tupla: Usa extend para añadir sus elementos a la lista lista_desglosados.\n",
    "        else:\n",
    "            lista_desglosados.append(x) \n",
    "    return lista_desglosados\n",
    "lista_correcta= extraer(datos)\n",
    "\n",
    "# Divide los elementos en dos listas, una con los datos que se pueden convertir a float y otra con los que no.\n",
    "def convertir(f):\n",
    "    lista_float=  []\n",
    "    lista_no_float=  []\n",
    "    for x in f :\n",
    "        try:\n",
    "            float_item=float(x) # Intenta convertir un elemento a un número flotante.\n",
    "            lista_float.append(float_item) # Si puede convertir el elemento a un número flotante lo agrega a lista_float.\n",
    "        except ValueError:\n",
    "            lista_no_float.append(x) # Si no puede convertir el elemento a número flotante lo agrega a la lista_no_float.\n",
    "    return lista_float, lista_no_float\n",
    "convertir(lista_correcta)\n"
   ]
  }
 ],
 "metadata": {
  "kernelspec": {
   "display_name": "base",
   "language": "python",
   "name": "python3"
  },
  "language_info": {
   "codemirror_mode": {
    "name": "ipython",
    "version": 3
   },
   "file_extension": ".py",
   "mimetype": "text/x-python",
   "name": "python",
   "nbconvert_exporter": "python",
   "pygments_lexer": "ipython3",
   "version": "3.11.5"
  }
 },
 "nbformat": 4,
 "nbformat_minor": 5
}
