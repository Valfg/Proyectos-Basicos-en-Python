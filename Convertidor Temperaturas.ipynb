{
 "cells": [
  {
   "cell_type": "markdown",
   "id": "cef7682a",
   "metadata": {},
   "source": [
    "# Convertidor de Temperaturas\n",
    "## Este script es un programa que convierte temperaturas entre tres unidades: Celsius, Fahrenheit y Kelvin"
   ]
  },
  {
   "cell_type": "code",
   "execution_count": null,
   "id": "64c04e6a",
   "metadata": {},
   "outputs": [],
   "source": [
    "# Toma una temperatura en grados Celsius y la convierte a Fahrenheit y Kelvin. Devuelve un diccionario con las temperaturas en las tres unidades.\n",
    "\n",
    "def Celsius_(Celsius):\n",
    "    return  {\n",
    "        \"celsius\" : Celsius,\n",
    "        \"farenheit\": (Celsius * 9/5)+32,\n",
    "        \"kelvin\": Celsius + 273.15}\n",
    "\n",
    "# Toma una temperatura en Fahrenheit, la convierte a Celsius y luego a Kelvin. Devuelve un diccionario con las temperaturas en las tres unidades.\n",
    "\n",
    "def Farenheit_(Farenheit):\n",
    "    Celsius= (Farenheit -32) * 5 / 9\n",
    "    return { \n",
    "        \"celsius\":Celsius,\n",
    "        \"farenheit\": Farenheit,\n",
    "        \"kelvin\": Celsius + 273.15}\n",
    "\n",
    "# Toma una temperatura en Kelvin, la convierte a Celsius y luego a Fahrenheit. Devuelve un diccionario con las temperaturas en las tres unidades.\n",
    "\n",
    "def Kelvin_(Kelvin):\n",
    "    Celsius= Kelvin -273.15\n",
    "    return { \n",
    "        \"celsius\": Celsius,\n",
    "        \"farenheit\": (Celsius * 9/5)+32,\n",
    "        \"kelvin\": Kelvin}\n",
    "\n",
    "# Función principal: Recibe como entrada la unidad de la temperatura y la temperatura en sí. Usa un diccionario para seleccionar la función correcta según la unidad ingresada.\n",
    "\n",
    "def convertidor (unidad_temperatura, temperatura):\n",
    "    convertidores= { \n",
    "        1: Celsius_,\n",
    "        2: Farenheit_,\n",
    "        3: Kelvin_}\n",
    "   \n",
    "    if unidad_temperatura in convertidores:\n",
    "        return convertidores[unidad_temperatura] (temperatura) \n",
    "\n",
    "\n",
    "# Entrada del usuario: Pide al usuario que introduzca la temperatura y su unidad (1 para Celsius, 2 para Fahrenheit, 3 para Kelvin).\n",
    "\n",
    "temperatura=float(input(\"Ingrese la temperatura que desea convertir: \"))\n",
    "unidad_temperatura= int(input(\"Ingrese el número correspondiente a la unidad de la temperatura que ingresó : 1 (Celsius), 2 (Farenheit), 3 (Kelvin)\"))\n",
    "\n",
    "# Si la unidad no es válida, vuelve a pedirla utilizando un bucle WHILE.\n",
    "while unidad_temperatura not in range(1,4):\n",
    "    unidad_temperatura= int(input(\"El número no es correcto!!! Por favor ingrese: 1 (Celsius), 2 (Farenheit), 3 (Kelvin)\"))\n",
    "\n",
    "# Conversión y resultado: Llama a la función convertidor para obtener las conversiones. Imprime un diccionario con los valores en Celsius, Fahrenheit y Kelvin.\n",
    "\n",
    "resultado= convertidor(unidad_temperatura, temperatura)\n",
    "print(resultado)"
   ]
  }
 ],
 "metadata": {
  "kernelspec": {
   "display_name": "base",
   "language": "python",
   "name": "python3"
  },
  "language_info": {
   "codemirror_mode": {
    "name": "ipython",
    "version": 3
   },
   "file_extension": ".py",
   "mimetype": "text/x-python",
   "name": "python",
   "nbconvert_exporter": "python",
   "pygments_lexer": "ipython3",
   "version": "3.11.5"
  }
 },
 "nbformat": 4,
 "nbformat_minor": 5
}
