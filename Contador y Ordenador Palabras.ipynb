{
 "cells": [
  {
   "cell_type": "markdown",
   "id": "cf86c203",
   "metadata": {},
   "source": [
    "# Contador y ordenador de palabras de un texto.\n",
    "### Este script procesa un archivo de texto y realiza las siguientes operaciones:\n",
    "- Cuenta el número total de palabras en el texto.\n",
    "- Crea un diccionario con la frecuencia de cada palabra.\n",
    "- Agrupa las palabras según su letra inicial.\n",
    "- Convierte el resultado en formato JSON para una visualización más organizada."
   ]
  },
  {
   "cell_type": "code",
   "execution_count": null,
   "id": "0d2df67a",
   "metadata": {},
   "outputs": [],
   "source": [
    "\n",
    "import re # Permite trabajar con expresiones regulares, se utiliza para limpiar el texto de caracteres especiales.\n",
    "import json # Permite convertir el resultado en un formato legible como JSON.\n",
    "from collections import defaultdict # Una variante del diccionario que permite crear diccionarios anidados fácilmente.\n",
    "\n",
    "def contador_dic():\n",
    "    nombre_del_archivo= input(\"Introduzca el nombre del archivo (con extensión): \")\n",
    "    with open (nombre_del_archivo, 'r', encoding='utf-8') as archivo: # Abre el archivo en modo de lectura ('r') con codificación utf-8 para evitar problemas con caracteres especiales.\n",
    "        contenido=archivo.read() # Lee todo el contenido del archivo y lo devuelve como una cadena.\n",
    "    return contenido \n",
    "\n",
    "def contador():\n",
    "    contenido= contador_dic()\n",
    "    contenido_palabras= re.sub(r'[^\\w\\s]', '', contenido).lower() # Elimina todo lo que no sea texto alfanumérico o espacios ([^\\w\\s]).\n",
    "    palabras=contenido_palabras.split() # Usa split() para dividir el texto en una lista de palabras basándose en los espacios.\n",
    "    dic_frecuencia={} \n",
    "    for palabra in palabras:\n",
    "        if palabra in dic_frecuencia:\n",
    "            dic_frecuencia[palabra]+=1  # Incrementa la frecuencia si ya existe.\n",
    "        else:\n",
    "            dic_frecuencia[palabra] =1 # Añade la palabra con frecuencia 1.\n",
    "    palabras_agrupadas_inicial= defaultdict(dict)\n",
    "    for palabra, frecuencia in sorted(dic_frecuencia.items()):\n",
    "        letra_inicial=palabra[0] # Obtiene la primera letra utilizando la primera posición del índice.\n",
    "        palabras_agrupadas_inicial[letra_inicial][palabra] =frecuencia\n",
    "    \n",
    "    palabras_agrupadas=dict(palabras_agrupadas_inicial)\n",
    "    print (F\"El texto tiene {len(palabras)} palabras.\") # Devuelve la cantidad de palabras que tiene el texto.\n",
    "    return palabras_agrupadas\n",
    "\n",
    "resultado= contador()\n",
    "salida= json.dumps(resultado, indent=2, ensure_ascii=False)\n",
    "print(salida) # Devuelve el diccionario con las palabras y su frecuencias, ordenadas alfabéticamente.\n",
    "\n"
   ]
  }
 ],
 "metadata": {
  "language_info": {
   "name": "python"
  }
 },
 "nbformat": 4,
 "nbformat_minor": 5
}
