{
 "cells": [
  {
   "cell_type": "markdown",
   "id": "1a7d83af",
   "metadata": {},
   "source": [
    "# Contador de palabras de un texto\n",
    "\n",
    "## Este script cuenta la frecuencia de cada palabra de un texto ingresado por el usuario."
   ]
  },
  {
   "cell_type": "code",
   "execution_count": 1,
   "id": "d1ad103d",
   "metadata": {},
   "outputs": [],
   "source": [
    "import re # Permite trabajar con expresiones regulares, se utiliza para limpiar el texto de caracteres especiales.\n",
    "\n",
    "# Se solicita al usuario que introduzca un texto. Convierte el texto a minúsculas con .lower() para evitar problemas de distinción entre mayúsculas y minúsculas.\n",
    "texto=str(input(\"Ingrese un texto:\")).lower() \n",
    "\n",
    "def contador(texto):\n",
    "    texto_nuevo= re.sub(r'[^\\w\\s]', '', texto)  # Se utiliza el patrón r'[^\\w\\s] para reemplazar cualquier carácter que no sea una letra, número o espacio .\n",
    "   \n",
    "    palabra=texto_nuevo.split() # Separa el texto en una lista de palabras basada en los espacios.\n",
    "    \n",
    "    dic_frecuencia={} # Crea un diccionario dic_frecuencia para almacenar cada palabra como clave y su frecuencia como valor.\n",
    "    \n",
    "    # Utiliza un bucle FOR para recorrer cada palabra en la lista.\n",
    "    for palabra in palabra:\n",
    "        if palabra in dic_frecuencia:\n",
    "            dic_frecuencia[palabra]+=1 # Si la palabra ya está en el diccionario, incrementa su contador.\n",
    "        else:\n",
    "            dic_frecuencia[palabra] =1 # Si no está, agrega la palabra al diccionario con un contador inicial de 1.\n",
    "    \n",
    "    # Recorre el diccionario y para cada palabra, imprime su frecuencia.\n",
    "    for palabra in dic_frecuencia:\n",
    "        frecuencia= dic_frecuencia[palabra]\n",
    "        print(f\"La palabra '{palabra}' tiene una frecuencia de {frecuencia}\")\n",
    "\n",
    "contador(texto)\n",
    "        "
   ]
  }
 ],
 "metadata": {
  "kernelspec": {
   "display_name": "base",
   "language": "python",
   "name": "python3"
  },
  "language_info": {
   "codemirror_mode": {
    "name": "ipython",
    "version": 3
   },
   "file_extension": ".py",
   "mimetype": "text/x-python",
   "name": "python",
   "nbconvert_exporter": "python",
   "pygments_lexer": "ipython3",
   "version": "3.11.5"
  }
 },
 "nbformat": 4,
 "nbformat_minor": 5
}
